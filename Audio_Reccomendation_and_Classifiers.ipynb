{
  "nbformat": 4,
  "nbformat_minor": 0,
  "metadata": {
    "colab": {
      "name": "Audio_Reccomendation_and_Classifiers.ipynb",
      "provenance": [],
      "authorship_tag": "ABX9TyMjzUR6Nd3wp4G0FAEw3OZG",
      "include_colab_link": true
    },
    "kernelspec": {
      "name": "python3",
      "display_name": "Python 3"
    }
  },
  "cells": [
    {
      "cell_type": "markdown",
      "metadata": {
        "id": "view-in-github",
        "colab_type": "text"
      },
      "source": [
        "<a href=\"https://colab.research.google.com/github/SheilKumar/STAT430-Group-Project-/blob/main/Audio_Reccomendation_and_Classifiers.ipynb\" target=\"_parent\"><img src=\"https://colab.research.google.com/assets/colab-badge.svg\" alt=\"Open In Colab\"/></a>"
      ]
    },
    {
      "cell_type": "markdown",
      "metadata": {
        "id": "4z-TV9CJUYZi"
      },
      "source": [
        "<table align=\"center\">\n",
        "  <td align=\"center\"><a target=\"_blank\" href=\"https://colab.research.google.com/drive/1-xNZgG02FXq4DBwwAZy4McGe-hGpGrRA#scrollTo=4z-TV9CJUYZi\">\n",
        "        <img src=\"http://introtodeeplearning.com/images/colab/colab.png?v2.0\"  style=\"padding-bottom:5px;\" />Run in Google Colab</a></td>\n",
        "  <td align=\"center\"><a target=\"_blank\" href=\"https://github.com/SheilKumar/STAT430-Group-Project-\">\n",
        "        <img src=\"http://introtodeeplearning.com/images/colab/github.png\"  height=\"70px\" style=\"padding-bottom:5px;\"  />View Source on GitHub</a></td>\n",
        "</table>"
      ]
    },
    {
      "cell_type": "markdown",
      "metadata": {
        "id": "IlfWb9FWVAtU"
      },
      "source": [
        "___\n",
        "# 0.0 Import Dependencies \n",
        "___\n"
      ]
    },
    {
      "cell_type": "code",
      "metadata": {
        "id": "2QSBe7MaVCpm"
      },
      "source": [
        "import numpy as np \n",
        "import matplotlib.pyplot as plt\n",
        "import tensorflow as tf\n",
        "from scipy.integrate import odeint\n",
        "from mpl_toolkits.mplot3d import Axes3D\n",
        "import keras\n",
        "from keras.models import Sequential\n",
        "from keras.layers import Dense\n",
        "from keras.layers import LSTM\n",
        "from sklearn.model_selection import train_test_split\n",
        "from sklearn.preprocessing import MinMaxScaler"
      ],
      "execution_count": null,
      "outputs": []
    },
    {
      "cell_type": "markdown",
      "metadata": {
        "id": "a4L3Q5FMVIlY"
      },
      "source": [
        "#1.0 Goal \n",
        "\n",
        "The goal of this project is to build a music language and genre classifier which will then, if time allows, also build into a music reccomendation algorithm.\n",
        "\n"
      ]
    },
    {
      "cell_type": "markdown",
      "metadata": {
        "id": "MGRoWbmixYHZ"
      },
      "source": [
        "## 1.1 Methodology\n",
        "\n",
        "The structure for this project is as follows: \n",
        "\n",
        "* Clean the data in `tracks.csv` and `features.csv` from the [FMA Dataset](https://github.com/mdeff/fma).\n",
        "    * Check which `track_id` are in both `features_csv` and `tracks.csv`. \n",
        "    * Create a dataframe with all the `track_id`, `genres`, and `mfcc`.\n",
        "    * Write an encoder to encode the label of the `genre` to a onehotencoded value. \n",
        "* Split the data into training and testing data using `train_test_split`.\n",
        "    * The input features will be a flattened version of all the `mfcc` from the `track_id`, the target or output will be the onehotencoded value of the `genre` of the `track_id` .\n",
        "    * Create training and testing data. \n",
        "* Create the fully connected network.\n",
        "    * Create a network with 2 hidden layers. (Neurons per layer tbd)\n",
        "    * `ReLU` activation function for each hidden layer.\n",
        "    * `softmax` activation function for output layer along with the `sparse_categorical_crossentropy` loss function. \n",
        "    * `adam` optimizer. \n",
        "    * `accuracy` for the metric. \n",
        "* Train network and test accuracy. \n",
        "    * Over 100,000 samples so somewhere between 200-250 epochs. \n",
        "    * Create graphs to show accuracy of network. \n",
        "* Create music reccomendation algorithm.  \n",
        "    * Implementation to be decided. "
      ]
    }
  ]
}