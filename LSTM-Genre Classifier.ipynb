{
 "cells": [
  {
   "cell_type": "markdown",
   "metadata": {},
   "source": [
    "## Dependencies "
   ]
  },
  {
   "cell_type": "code",
   "execution_count": 3,
   "metadata": {},
   "outputs": [],
   "source": [
    "import pandas as pd\n",
    "import keras\n",
    "import tensorflow as tf\n",
    "import numpy as np\n",
    "from sklearn.model_selection import train_test_split\n",
    "from sklearn.preprocessing import LabelEncoder, StandardScaler,OneHotEncoder\n",
    "import matplotlib.pyplot as plt"
   ]
  },
  {
   "cell_type": "markdown",
   "metadata": {},
   "source": [
    "## Data Cleansing\n",
    "\n",
    "* Create mfcc and genre table from the `features.csv` and `tracks.csv` data\n"
   ]
  },
  {
   "cell_type": "code",
   "execution_count": 4,
   "metadata": {},
   "outputs": [],
   "source": [
    "metadata = pd.read_csv('features.csv')"
   ]
  },
  {
   "cell_type": "code",
   "execution_count": 5,
   "metadata": {},
   "outputs": [],
   "source": [
    "tracks = pd.read_csv('tracks.csv', header=1)\n",
    "tracks = tracks.rename(columns={\"Unnamed: 0\": \"track_id\"})\n",
    "tracks = tracks.drop([0])"
   ]
  },
  {
   "cell_type": "code",
   "execution_count": 6,
   "metadata": {},
   "outputs": [],
   "source": [
    "tracks = tracks.dropna(subset=[\"genre_top\"])"
   ]
  },
  {
   "source": [
    "metadata = metadata.drop([0,1,2]).rename(columns={\"feature\":\"track_id\"})"
   ],
   "cell_type": "code",
   "metadata": {},
   "execution_count": 7,
   "outputs": []
  },
  {
   "cell_type": "code",
   "execution_count": 8,
   "metadata": {},
   "outputs": [],
   "source": [
    "def get_merged_df(m,t):\n",
    "    allmfccs = [\"track_id\"]\n",
    "    mfccdict = {\"track_id\":\"int32\"}\n",
    "    for i in range(1,140):\n",
    "        x = \"mfcc.\"+str(i)\n",
    "        allmfccs.append(x)\n",
    "        mfccdict[x] = \"float\"\n",
    "    tcolumns = [\"track_id\",\"genre_top\"]\n",
    "    tracks = t.astype({\"track_id\":\"int32\"})\n",
    "    meta = m.astype(mfccdict)\n",
    "    tracks = tracks[tcolumns] #data frame with track_ids and genres\n",
    "    meta = meta[allmfccs] # data frame with mfcc and track_ids\n",
    "    merged_df = pd.merge(meta,tracks,on=\"track_id\")\n",
    "    return merged_df"
   ]
  },
  {
   "cell_type": "code",
   "execution_count": 9,
   "metadata": {},
   "outputs": [
    {
     "output_type": "execute_result",
     "data": {
      "text/plain": [
       "       track_id    mfcc.1    mfcc.2    mfcc.3    mfcc.4    mfcc.5    mfcc.6  \\\n",
       "0             2  1.541901  0.000816  0.330728  0.118731 -0.342687 -0.259252   \n",
       "1             3  1.399977  0.112535 -0.211170  0.032953 -0.023489  0.150404   \n",
       "2             5  2.415293  0.440233 -0.782131 -0.771069 -0.724216  0.090260   \n",
       "3            10  1.161854  2.095651  1.372743 -0.203574 -0.345354 -0.529139   \n",
       "4           134  0.840775 -0.171289 -0.265671 -0.279361  0.190866 -0.192000   \n",
       "...         ...       ...       ...       ...       ...       ...       ...   \n",
       "49593    155315  0.511910  2.573727 -0.444272  0.689142 -0.445705  0.122356   \n",
       "49594    155316  5.361988  3.186483  0.510951 -0.143080  0.342237  0.771449   \n",
       "49595    155317  1.752112  0.442188 -0.380960 -0.739809 -0.023362  0.264786   \n",
       "49596    155318 -0.129386  0.662489  1.025676  0.170532  1.827692 -0.189439   \n",
       "49597    155319  3.716359  2.881116  3.273014  0.707058  1.951918 -0.151555   \n",
       "\n",
       "         mfcc.7    mfcc.8    mfcc.9  ...   mfcc.131  mfcc.132  mfcc.133  \\\n",
       "0      0.146735  0.410656 -0.162872  ...   8.601942  9.284250  9.245516   \n",
       "1      0.046454  0.033484 -0.064596  ...  10.026867  6.978541  7.650417   \n",
       "2      0.152119  0.261731 -0.608905  ...   9.581952  8.895723  8.141456   \n",
       "3      0.561974  0.281350 -0.150672  ...   7.985110  7.075400  6.972649   \n",
       "4      0.422766  0.044087 -0.003510  ...   9.696905  8.477474  7.413949   \n",
       "...         ...       ...       ...  ...        ...       ...       ...   \n",
       "49593 -0.051783  0.124393  1.357606  ...   8.129650  7.889639  6.893649   \n",
       "49594 -0.184232  0.143237  0.009016  ...   6.629143  5.860062  6.230947   \n",
       "49595  0.072084  0.295485  0.535544  ...   6.955739  6.662989  6.478699   \n",
       "49596  1.141878  0.022045  0.175235  ...   6.943147  6.522048  6.780707   \n",
       "49597  0.230036 -0.327132  1.182421  ...   5.971618  6.355647  5.602213   \n",
       "\n",
       "       mfcc.134  mfcc.135  mfcc.136  mfcc.137  mfcc.138  mfcc.139  genre_top  \n",
       "0      8.520863  8.560472  7.651871  7.246555  7.077188  7.391859    Hip-Hop  \n",
       "1      9.600357  7.222888  8.398293  7.285423  7.417791  8.777440    Hip-Hop  \n",
       "2      8.201844  7.780963  7.132692  7.539753  8.452527  7.334442    Hip-Hop  \n",
       "3      7.071393  7.270959  7.051070  6.928591  6.430473  6.186294        Pop  \n",
       "4      7.518894  6.755280  6.344675  6.761541  7.134986  6.803034    Hip-Hop  \n",
       "...         ...       ...       ...       ...       ...       ...        ...  \n",
       "49593  6.792994  7.019863  6.894421  8.094346  6.055836  6.355721       Rock  \n",
       "49594  5.923375  5.586200  5.516872  5.755764  5.105072  5.019556       Rock  \n",
       "49595  6.019901  5.757353  5.280114  5.674062  5.541949  5.266131       Rock  \n",
       "49596  6.311563  5.789986  5.466107  5.607614  5.685448  5.449005       Rock  \n",
       "49597  5.887583  5.110033  5.407447  5.317993  5.187994  5.260817       Rock  \n",
       "\n",
       "[49598 rows x 141 columns]"
      ],
      "text/html": "<div>\n<style scoped>\n    .dataframe tbody tr th:only-of-type {\n        vertical-align: middle;\n    }\n\n    .dataframe tbody tr th {\n        vertical-align: top;\n    }\n\n    .dataframe thead th {\n        text-align: right;\n    }\n</style>\n<table border=\"1\" class=\"dataframe\">\n  <thead>\n    <tr style=\"text-align: right;\">\n      <th></th>\n      <th>track_id</th>\n      <th>mfcc.1</th>\n      <th>mfcc.2</th>\n      <th>mfcc.3</th>\n      <th>mfcc.4</th>\n      <th>mfcc.5</th>\n      <th>mfcc.6</th>\n      <th>mfcc.7</th>\n      <th>mfcc.8</th>\n      <th>mfcc.9</th>\n      <th>...</th>\n      <th>mfcc.131</th>\n      <th>mfcc.132</th>\n      <th>mfcc.133</th>\n      <th>mfcc.134</th>\n      <th>mfcc.135</th>\n      <th>mfcc.136</th>\n      <th>mfcc.137</th>\n      <th>mfcc.138</th>\n      <th>mfcc.139</th>\n      <th>genre_top</th>\n    </tr>\n  </thead>\n  <tbody>\n    <tr>\n      <th>0</th>\n      <td>2</td>\n      <td>1.541901</td>\n      <td>0.000816</td>\n      <td>0.330728</td>\n      <td>0.118731</td>\n      <td>-0.342687</td>\n      <td>-0.259252</td>\n      <td>0.146735</td>\n      <td>0.410656</td>\n      <td>-0.162872</td>\n      <td>...</td>\n      <td>8.601942</td>\n      <td>9.284250</td>\n      <td>9.245516</td>\n      <td>8.520863</td>\n      <td>8.560472</td>\n      <td>7.651871</td>\n      <td>7.246555</td>\n      <td>7.077188</td>\n      <td>7.391859</td>\n      <td>Hip-Hop</td>\n    </tr>\n    <tr>\n      <th>1</th>\n      <td>3</td>\n      <td>1.399977</td>\n      <td>0.112535</td>\n      <td>-0.211170</td>\n      <td>0.032953</td>\n      <td>-0.023489</td>\n      <td>0.150404</td>\n      <td>0.046454</td>\n      <td>0.033484</td>\n      <td>-0.064596</td>\n      <td>...</td>\n      <td>10.026867</td>\n      <td>6.978541</td>\n      <td>7.650417</td>\n      <td>9.600357</td>\n      <td>7.222888</td>\n      <td>8.398293</td>\n      <td>7.285423</td>\n      <td>7.417791</td>\n      <td>8.777440</td>\n      <td>Hip-Hop</td>\n    </tr>\n    <tr>\n      <th>2</th>\n      <td>5</td>\n      <td>2.415293</td>\n      <td>0.440233</td>\n      <td>-0.782131</td>\n      <td>-0.771069</td>\n      <td>-0.724216</td>\n      <td>0.090260</td>\n      <td>0.152119</td>\n      <td>0.261731</td>\n      <td>-0.608905</td>\n      <td>...</td>\n      <td>9.581952</td>\n      <td>8.895723</td>\n      <td>8.141456</td>\n      <td>8.201844</td>\n      <td>7.780963</td>\n      <td>7.132692</td>\n      <td>7.539753</td>\n      <td>8.452527</td>\n      <td>7.334442</td>\n      <td>Hip-Hop</td>\n    </tr>\n    <tr>\n      <th>3</th>\n      <td>10</td>\n      <td>1.161854</td>\n      <td>2.095651</td>\n      <td>1.372743</td>\n      <td>-0.203574</td>\n      <td>-0.345354</td>\n      <td>-0.529139</td>\n      <td>0.561974</td>\n      <td>0.281350</td>\n      <td>-0.150672</td>\n      <td>...</td>\n      <td>7.985110</td>\n      <td>7.075400</td>\n      <td>6.972649</td>\n      <td>7.071393</td>\n      <td>7.270959</td>\n      <td>7.051070</td>\n      <td>6.928591</td>\n      <td>6.430473</td>\n      <td>6.186294</td>\n      <td>Pop</td>\n    </tr>\n    <tr>\n      <th>4</th>\n      <td>134</td>\n      <td>0.840775</td>\n      <td>-0.171289</td>\n      <td>-0.265671</td>\n      <td>-0.279361</td>\n      <td>0.190866</td>\n      <td>-0.192000</td>\n      <td>0.422766</td>\n      <td>0.044087</td>\n      <td>-0.003510</td>\n      <td>...</td>\n      <td>9.696905</td>\n      <td>8.477474</td>\n      <td>7.413949</td>\n      <td>7.518894</td>\n      <td>6.755280</td>\n      <td>6.344675</td>\n      <td>6.761541</td>\n      <td>7.134986</td>\n      <td>6.803034</td>\n      <td>Hip-Hop</td>\n    </tr>\n    <tr>\n      <th>...</th>\n      <td>...</td>\n      <td>...</td>\n      <td>...</td>\n      <td>...</td>\n      <td>...</td>\n      <td>...</td>\n      <td>...</td>\n      <td>...</td>\n      <td>...</td>\n      <td>...</td>\n      <td>...</td>\n      <td>...</td>\n      <td>...</td>\n      <td>...</td>\n      <td>...</td>\n      <td>...</td>\n      <td>...</td>\n      <td>...</td>\n      <td>...</td>\n      <td>...</td>\n      <td>...</td>\n    </tr>\n    <tr>\n      <th>49593</th>\n      <td>155315</td>\n      <td>0.511910</td>\n      <td>2.573727</td>\n      <td>-0.444272</td>\n      <td>0.689142</td>\n      <td>-0.445705</td>\n      <td>0.122356</td>\n      <td>-0.051783</td>\n      <td>0.124393</td>\n      <td>1.357606</td>\n      <td>...</td>\n      <td>8.129650</td>\n      <td>7.889639</td>\n      <td>6.893649</td>\n      <td>6.792994</td>\n      <td>7.019863</td>\n      <td>6.894421</td>\n      <td>8.094346</td>\n      <td>6.055836</td>\n      <td>6.355721</td>\n      <td>Rock</td>\n    </tr>\n    <tr>\n      <th>49594</th>\n      <td>155316</td>\n      <td>5.361988</td>\n      <td>3.186483</td>\n      <td>0.510951</td>\n      <td>-0.143080</td>\n      <td>0.342237</td>\n      <td>0.771449</td>\n      <td>-0.184232</td>\n      <td>0.143237</td>\n      <td>0.009016</td>\n      <td>...</td>\n      <td>6.629143</td>\n      <td>5.860062</td>\n      <td>6.230947</td>\n      <td>5.923375</td>\n      <td>5.586200</td>\n      <td>5.516872</td>\n      <td>5.755764</td>\n      <td>5.105072</td>\n      <td>5.019556</td>\n      <td>Rock</td>\n    </tr>\n    <tr>\n      <th>49595</th>\n      <td>155317</td>\n      <td>1.752112</td>\n      <td>0.442188</td>\n      <td>-0.380960</td>\n      <td>-0.739809</td>\n      <td>-0.023362</td>\n      <td>0.264786</td>\n      <td>0.072084</td>\n      <td>0.295485</td>\n      <td>0.535544</td>\n      <td>...</td>\n      <td>6.955739</td>\n      <td>6.662989</td>\n      <td>6.478699</td>\n      <td>6.019901</td>\n      <td>5.757353</td>\n      <td>5.280114</td>\n      <td>5.674062</td>\n      <td>5.541949</td>\n      <td>5.266131</td>\n      <td>Rock</td>\n    </tr>\n    <tr>\n      <th>49596</th>\n      <td>155318</td>\n      <td>-0.129386</td>\n      <td>0.662489</td>\n      <td>1.025676</td>\n      <td>0.170532</td>\n      <td>1.827692</td>\n      <td>-0.189439</td>\n      <td>1.141878</td>\n      <td>0.022045</td>\n      <td>0.175235</td>\n      <td>...</td>\n      <td>6.943147</td>\n      <td>6.522048</td>\n      <td>6.780707</td>\n      <td>6.311563</td>\n      <td>5.789986</td>\n      <td>5.466107</td>\n      <td>5.607614</td>\n      <td>5.685448</td>\n      <td>5.449005</td>\n      <td>Rock</td>\n    </tr>\n    <tr>\n      <th>49597</th>\n      <td>155319</td>\n      <td>3.716359</td>\n      <td>2.881116</td>\n      <td>3.273014</td>\n      <td>0.707058</td>\n      <td>1.951918</td>\n      <td>-0.151555</td>\n      <td>0.230036</td>\n      <td>-0.327132</td>\n      <td>1.182421</td>\n      <td>...</td>\n      <td>5.971618</td>\n      <td>6.355647</td>\n      <td>5.602213</td>\n      <td>5.887583</td>\n      <td>5.110033</td>\n      <td>5.407447</td>\n      <td>5.317993</td>\n      <td>5.187994</td>\n      <td>5.260817</td>\n      <td>Rock</td>\n    </tr>\n  </tbody>\n</table>\n<p>49598 rows × 141 columns</p>\n</div>"
     },
     "metadata": {},
     "execution_count": 9
    }
   ],
   "source": [
    "track_mfcc_df = get_merged_df(metadata,tracks)\n",
    "track_mfcc_df"
   ]
  },
  {
   "source": [
    "## Encode the labels and Creating X and Y data"
   ],
   "cell_type": "markdown",
   "metadata": {}
  },
  {
   "cell_type": "code",
   "execution_count": 10,
   "metadata": {},
   "outputs": [],
   "source": [
    "genre_list = track_mfcc_df.iloc[:,-1]\n",
    "encoder = OneHotEncoder()\n",
    "Y = encoder.fit_transform(np.array(genre_list).reshape(-1,1)).toarray()"
   ]
  },
  {
   "cell_type": "code",
   "execution_count": 11,
   "metadata": {},
   "outputs": [],
   "source": [
    "scaler = StandardScaler()\n",
    "X = scaler.fit_transform(np.array(track_mfcc_df.iloc[:,1:-1], dtype = float))"
   ]
  },
  {
   "source": [
    "## Create Testing and Training Sets "
   ],
   "cell_type": "markdown",
   "metadata": {}
  },
  {
   "cell_type": "code",
   "execution_count": 12,
   "metadata": {},
   "outputs": [],
   "source": [
    "X_train,X_test,Y_train,Y_test = train_test_split(X,Y,test_size=0.2)"
   ]
  },
  {
   "cell_type": "code",
   "execution_count": 13,
   "metadata": {},
   "outputs": [
    {
     "output_type": "execute_result",
     "data": {
      "text/plain": [
       "((39678, 139), (39678, 16))"
      ]
     },
     "metadata": {},
     "execution_count": 13
    }
   ],
   "source": [
    "X_new = X_train\n",
    "Y_new = Y_train\n",
    "X_new.shape,Y_new.shape"
   ]
  },
  {
   "cell_type": "code",
   "execution_count": 14,
   "metadata": {},
   "outputs": [],
   "source": [
    "#X_new = np.expand_dims(X_train, axis=1)\n",
    "#Y_new = np.expand_dims(np.expand_dims(Y_train, axis=1),axis=2)\n",
    "#X_new.shape,Y_new.shape"
   ]
  },
  {
   "cell_type": "code",
   "execution_count": 15,
   "metadata": {},
   "outputs": [],
   "source": [
    "X_train = np.expand_dims(X_train, axis =1)\n",
    "X_test  = np.expand_dims(X_test,  axis =1)\n",
    "Y_train = np.expand_dims(Y_train,axis=1)\n",
    "Y_test  = np.expand_dims(Y_test, axis=1)"
   ]
  },
  {
   "cell_type": "code",
   "execution_count": 16,
   "metadata": {},
   "outputs": [
    {
     "output_type": "execute_result",
     "data": {
      "text/plain": [
       "(39678, 9920, (39678, 1, 139), (39678, 1, 16), (9920, 1, 139))"
      ]
     },
     "metadata": {},
     "execution_count": 16
    }
   ],
   "source": [
    "len(X_train),len(X_test),X_train.shape,Y_train.shape,X_test.shape #Total of 15 genres "
   ]
  },
  {
   "source": [
    "# Create LSTM network "
   ],
   "cell_type": "markdown",
   "metadata": {}
  },
  {
   "cell_type": "code",
   "execution_count": 17,
   "metadata": {},
   "outputs": [],
   "source": [
    "lstm_model = tf.keras.models.Sequential([\n",
    "    tf.keras.layers.LSTM(128, return_sequences=True),\n",
    "    tf.keras.layers.Dense(16, activation='softmax')\n",
    "])"
   ]
  },
  {
   "cell_type": "code",
   "execution_count": 18,
   "metadata": {},
   "outputs": [],
   "source": [
    "lstm_model.compile(optimizer='adam',\n",
    "              loss='categorical_crossentropy',\n",
    "              metrics=['accuracy'])"
   ]
  },
  {
   "cell_type": "code",
   "execution_count": 19,
   "metadata": {},
   "outputs": [
    {
     "output_type": "stream",
     "name": "stdout",
     "text": [
      "Epoch 1/25\n",
      "155/155 [==============================] - 3s 10ms/step - loss: 2.0109 - accuracy: 0.4293 - val_loss: 1.3464 - val_accuracy: 0.5823\n",
      "Epoch 2/25\n",
      "155/155 [==============================] - 1s 9ms/step - loss: 1.3125 - accuracy: 0.5850 - val_loss: 1.2521 - val_accuracy: 0.5977\n",
      "Epoch 3/25\n",
      "155/155 [==============================] - 1s 8ms/step - loss: 1.2270 - accuracy: 0.6094 - val_loss: 1.2081 - val_accuracy: 0.6092\n",
      "Epoch 4/25\n",
      "155/155 [==============================] - 1s 9ms/step - loss: 1.1731 - accuracy: 0.6221 - val_loss: 1.1857 - val_accuracy: 0.6136\n",
      "Epoch 5/25\n",
      "155/155 [==============================] - 2s 10ms/step - loss: 1.1314 - accuracy: 0.6326 - val_loss: 1.1662 - val_accuracy: 0.6212\n",
      "Epoch 6/25\n",
      "155/155 [==============================] - 2s 10ms/step - loss: 1.0933 - accuracy: 0.6441 - val_loss: 1.1569 - val_accuracy: 0.6244\n",
      "Epoch 7/25\n",
      "155/155 [==============================] - 1s 8ms/step - loss: 1.0491 - accuracy: 0.6591 - val_loss: 1.1490 - val_accuracy: 0.6285\n",
      "Epoch 8/25\n",
      "155/155 [==============================] - 1s 8ms/step - loss: 1.0249 - accuracy: 0.6647 - val_loss: 1.1412 - val_accuracy: 0.6302\n",
      "Epoch 9/25\n",
      "155/155 [==============================] - 1s 8ms/step - loss: 1.0101 - accuracy: 0.6692 - val_loss: 1.1367 - val_accuracy: 0.6326\n",
      "Epoch 10/25\n",
      "155/155 [==============================] - 2s 10ms/step - loss: 0.9827 - accuracy: 0.6806 - val_loss: 1.1364 - val_accuracy: 0.6298\n",
      "Epoch 11/25\n",
      "155/155 [==============================] - 1s 8ms/step - loss: 0.9690 - accuracy: 0.6828 - val_loss: 1.1294 - val_accuracy: 0.6313\n",
      "Epoch 12/25\n",
      "155/155 [==============================] - 1s 6ms/step - loss: 0.9483 - accuracy: 0.6927 - val_loss: 1.1298 - val_accuracy: 0.6327\n",
      "Epoch 13/25\n",
      "155/155 [==============================] - 1s 9ms/step - loss: 0.9265 - accuracy: 0.6996 - val_loss: 1.1289 - val_accuracy: 0.6329\n",
      "Epoch 14/25\n",
      "155/155 [==============================] - 2s 10ms/step - loss: 0.9040 - accuracy: 0.7094 - val_loss: 1.1305 - val_accuracy: 0.6347\n",
      "Epoch 15/25\n",
      "155/155 [==============================] - 2s 11ms/step - loss: 0.8887 - accuracy: 0.7138 - val_loss: 1.1309 - val_accuracy: 0.6327\n",
      "Epoch 16/25\n",
      "155/155 [==============================] - 2s 13ms/step - loss: 0.8704 - accuracy: 0.7170 - val_loss: 1.1377 - val_accuracy: 0.6305\n",
      "Epoch 17/25\n",
      "155/155 [==============================] - 2s 10ms/step - loss: 0.8483 - accuracy: 0.7241 - val_loss: 1.1381 - val_accuracy: 0.6333\n",
      "Epoch 18/25\n",
      "155/155 [==============================] - 2s 10ms/step - loss: 0.8339 - accuracy: 0.7333 - val_loss: 1.1433 - val_accuracy: 0.6315\n",
      "Epoch 19/25\n",
      "155/155 [==============================] - 1s 9ms/step - loss: 0.8128 - accuracy: 0.7384 - val_loss: 1.1492 - val_accuracy: 0.6337\n",
      "Epoch 20/25\n",
      "155/155 [==============================] - 1s 9ms/step - loss: 0.7946 - accuracy: 0.7450 - val_loss: 1.1489 - val_accuracy: 0.6340\n",
      "Epoch 21/25\n",
      "155/155 [==============================] - 2s 10ms/step - loss: 0.7782 - accuracy: 0.7508 - val_loss: 1.1582 - val_accuracy: 0.6317\n",
      "Epoch 22/25\n",
      "155/155 [==============================] - 1s 9ms/step - loss: 0.7636 - accuracy: 0.7535 - val_loss: 1.1638 - val_accuracy: 0.6291\n",
      "Epoch 23/25\n",
      "155/155 [==============================] - 1s 8ms/step - loss: 0.7642 - accuracy: 0.7560 - val_loss: 1.1713 - val_accuracy: 0.6290\n",
      "Epoch 24/25\n",
      "155/155 [==============================] - 1s 9ms/step - loss: 0.7345 - accuracy: 0.7658 - val_loss: 1.1792 - val_accuracy: 0.6297\n",
      "Epoch 25/25\n",
      "155/155 [==============================] - 2s 10ms/step - loss: 0.7233 - accuracy: 0.7686 - val_loss: 1.1861 - val_accuracy: 0.6258\n"
     ]
    }
   ],
   "source": [
    "history = lstm_model.fit(X_train,\n",
    "                         Y_train,\n",
    "                         epochs=25,\n",
    "                         batch_size=256,\n",
    "                         validation_data=(X_test,Y_test))"
   ]
  },
  {
   "cell_type": "code",
   "execution_count": 25,
   "metadata": {},
   "outputs": [
    {
     "output_type": "display_data",
     "data": {
      "text/plain": "<Figure size 432x288 with 1 Axes>",
      "image/svg+xml": "<?xml version=\"1.0\" encoding=\"utf-8\" standalone=\"no\"?>\n<!DOCTYPE svg PUBLIC \"-//W3C//DTD SVG 1.1//EN\"\n  \"http://www.w3.org/Graphics/SVG/1.1/DTD/svg11.dtd\">\n<!-- Created with matplotlib (https://matplotlib.org/) -->\n<svg height=\"277.314375pt\" version=\"1.1\" viewBox=\"0 0 395.969886 277.314375\" width=\"395.969886pt\" xmlns=\"http://www.w3.org/2000/svg\" xmlns:xlink=\"http://www.w3.org/1999/xlink\">\n <metadata>\n  <rdf:RDF xmlns:cc=\"http://creativecommons.org/ns#\" xmlns:dc=\"http://purl.org/dc/elements/1.1/\" xmlns:rdf=\"http://www.w3.org/1999/02/22-rdf-syntax-ns#\">\n   <cc:Work>\n    <dc:type rdf:resource=\"http://purl.org/dc/dcmitype/StillImage\"/>\n    <dc:date>2020-12-16T18:31:27.329420</dc:date>\n    <dc:format>image/svg+xml</dc:format>\n    <dc:creator>\n     <cc:Agent>\n      <dc:title>Matplotlib v3.3.3, https://matplotlib.org/</dc:title>\n     </cc:Agent>\n    </dc:creator>\n   </cc:Work>\n  </rdf:RDF>\n </metadata>\n <defs>\n  <style type=\"text/css\">*{stroke-linecap:butt;stroke-linejoin:round;}</style>\n </defs>\n <g id=\"figure_1\">\n  <g id=\"patch_1\">\n   <path d=\"M 0 277.314375 \nL 395.969886 277.314375 \nL 395.969886 0 \nL 0 0 \nz\n\" style=\"fill:none;\"/>\n  </g>\n  <g id=\"axes_1\">\n   <g id=\"patch_2\">\n    <path d=\"M 50.14375 239.758125 \nL 384.94375 239.758125 \nL 384.94375 22.318125 \nL 50.14375 22.318125 \nz\n\" style=\"fill:#ffffff;\"/>\n   </g>\n   <g id=\"matplotlib.axis_1\">\n    <g id=\"xtick_1\">\n     <g id=\"line2d_1\">\n      <defs>\n       <path d=\"M 0 0 \nL 0 3.5 \n\" id=\"m2dfa0175c2\" style=\"stroke:#000000;stroke-width:0.8;\"/>\n      </defs>\n      <g>\n       <use style=\"stroke:#000000;stroke-width:0.8;\" x=\"65.361932\" xlink:href=\"#m2dfa0175c2\" y=\"239.758125\"/>\n      </g>\n     </g>\n     <g id=\"text_1\">\n      <!-- 0 -->\n      <g transform=\"translate(62.180682 254.356562)scale(0.1 -0.1)\">\n       <defs>\n        <path d=\"M 31.78125 66.40625 \nQ 24.171875 66.40625 20.328125 58.90625 \nQ 16.5 51.421875 16.5 36.375 \nQ 16.5 21.390625 20.328125 13.890625 \nQ 24.171875 6.390625 31.78125 6.390625 \nQ 39.453125 6.390625 43.28125 13.890625 \nQ 47.125 21.390625 47.125 36.375 \nQ 47.125 51.421875 43.28125 58.90625 \nQ 39.453125 66.40625 31.78125 66.40625 \nz\nM 31.78125 74.21875 \nQ 44.046875 74.21875 50.515625 64.515625 \nQ 56.984375 54.828125 56.984375 36.375 \nQ 56.984375 17.96875 50.515625 8.265625 \nQ 44.046875 -1.421875 31.78125 -1.421875 \nQ 19.53125 -1.421875 13.0625 8.265625 \nQ 6.59375 17.96875 6.59375 36.375 \nQ 6.59375 54.828125 13.0625 64.515625 \nQ 19.53125 74.21875 31.78125 74.21875 \nz\n\" id=\"DejaVuSans-48\"/>\n       </defs>\n       <use xlink:href=\"#DejaVuSans-48\"/>\n      </g>\n     </g>\n    </g>\n    <g id=\"xtick_2\">\n     <g id=\"line2d_2\">\n      <g>\n       <use style=\"stroke:#000000;stroke-width:0.8;\" x=\"128.771023\" xlink:href=\"#m2dfa0175c2\" y=\"239.758125\"/>\n      </g>\n     </g>\n     <g id=\"text_2\">\n      <!-- 5 -->\n      <g transform=\"translate(125.589773 254.356562)scale(0.1 -0.1)\">\n       <defs>\n        <path d=\"M 10.796875 72.90625 \nL 49.515625 72.90625 \nL 49.515625 64.59375 \nL 19.828125 64.59375 \nL 19.828125 46.734375 \nQ 21.96875 47.46875 24.109375 47.828125 \nQ 26.265625 48.1875 28.421875 48.1875 \nQ 40.625 48.1875 47.75 41.5 \nQ 54.890625 34.8125 54.890625 23.390625 \nQ 54.890625 11.625 47.5625 5.09375 \nQ 40.234375 -1.421875 26.90625 -1.421875 \nQ 22.3125 -1.421875 17.546875 -0.640625 \nQ 12.796875 0.140625 7.71875 1.703125 \nL 7.71875 11.625 \nQ 12.109375 9.234375 16.796875 8.0625 \nQ 21.484375 6.890625 26.703125 6.890625 \nQ 35.15625 6.890625 40.078125 11.328125 \nQ 45.015625 15.765625 45.015625 23.390625 \nQ 45.015625 31 40.078125 35.4375 \nQ 35.15625 39.890625 26.703125 39.890625 \nQ 22.75 39.890625 18.8125 39.015625 \nQ 14.890625 38.140625 10.796875 36.28125 \nz\n\" id=\"DejaVuSans-53\"/>\n       </defs>\n       <use xlink:href=\"#DejaVuSans-53\"/>\n      </g>\n     </g>\n    </g>\n    <g id=\"xtick_3\">\n     <g id=\"line2d_3\">\n      <g>\n       <use style=\"stroke:#000000;stroke-width:0.8;\" x=\"192.180114\" xlink:href=\"#m2dfa0175c2\" y=\"239.758125\"/>\n      </g>\n     </g>\n     <g id=\"text_3\">\n      <!-- 10 -->\n      <g transform=\"translate(185.817614 254.356562)scale(0.1 -0.1)\">\n       <defs>\n        <path d=\"M 12.40625 8.296875 \nL 28.515625 8.296875 \nL 28.515625 63.921875 \nL 10.984375 60.40625 \nL 10.984375 69.390625 \nL 28.421875 72.90625 \nL 38.28125 72.90625 \nL 38.28125 8.296875 \nL 54.390625 8.296875 \nL 54.390625 0 \nL 12.40625 0 \nz\n\" id=\"DejaVuSans-49\"/>\n       </defs>\n       <use xlink:href=\"#DejaVuSans-49\"/>\n       <use x=\"63.623047\" xlink:href=\"#DejaVuSans-48\"/>\n      </g>\n     </g>\n    </g>\n    <g id=\"xtick_4\">\n     <g id=\"line2d_4\">\n      <g>\n       <use style=\"stroke:#000000;stroke-width:0.8;\" x=\"255.589205\" xlink:href=\"#m2dfa0175c2\" y=\"239.758125\"/>\n      </g>\n     </g>\n     <g id=\"text_4\">\n      <!-- 15 -->\n      <g transform=\"translate(249.226705 254.356562)scale(0.1 -0.1)\">\n       <use xlink:href=\"#DejaVuSans-49\"/>\n       <use x=\"63.623047\" xlink:href=\"#DejaVuSans-53\"/>\n      </g>\n     </g>\n    </g>\n    <g id=\"xtick_5\">\n     <g id=\"line2d_5\">\n      <g>\n       <use style=\"stroke:#000000;stroke-width:0.8;\" x=\"318.998295\" xlink:href=\"#m2dfa0175c2\" y=\"239.758125\"/>\n      </g>\n     </g>\n     <g id=\"text_5\">\n      <!-- 20 -->\n      <g transform=\"translate(312.635795 254.356562)scale(0.1 -0.1)\">\n       <defs>\n        <path d=\"M 19.1875 8.296875 \nL 53.609375 8.296875 \nL 53.609375 0 \nL 7.328125 0 \nL 7.328125 8.296875 \nQ 12.9375 14.109375 22.625 23.890625 \nQ 32.328125 33.6875 34.8125 36.53125 \nQ 39.546875 41.84375 41.421875 45.53125 \nQ 43.3125 49.21875 43.3125 52.78125 \nQ 43.3125 58.59375 39.234375 62.25 \nQ 35.15625 65.921875 28.609375 65.921875 \nQ 23.96875 65.921875 18.8125 64.3125 \nQ 13.671875 62.703125 7.8125 59.421875 \nL 7.8125 69.390625 \nQ 13.765625 71.78125 18.9375 73 \nQ 24.125 74.21875 28.421875 74.21875 \nQ 39.75 74.21875 46.484375 68.546875 \nQ 53.21875 62.890625 53.21875 53.421875 \nQ 53.21875 48.921875 51.53125 44.890625 \nQ 49.859375 40.875 45.40625 35.40625 \nQ 44.1875 33.984375 37.640625 27.21875 \nQ 31.109375 20.453125 19.1875 8.296875 \nz\n\" id=\"DejaVuSans-50\"/>\n       </defs>\n       <use xlink:href=\"#DejaVuSans-50\"/>\n       <use x=\"63.623047\" xlink:href=\"#DejaVuSans-48\"/>\n      </g>\n     </g>\n    </g>\n    <g id=\"xtick_6\">\n     <g id=\"line2d_6\">\n      <g>\n       <use style=\"stroke:#000000;stroke-width:0.8;\" x=\"382.407386\" xlink:href=\"#m2dfa0175c2\" y=\"239.758125\"/>\n      </g>\n     </g>\n     <g id=\"text_6\">\n      <!-- 25 -->\n      <g transform=\"translate(376.044886 254.356562)scale(0.1 -0.1)\">\n       <use xlink:href=\"#DejaVuSans-50\"/>\n       <use x=\"63.623047\" xlink:href=\"#DejaVuSans-53\"/>\n      </g>\n     </g>\n    </g>\n    <g id=\"text_7\">\n     <!-- Epochs -->\n     <g transform=\"translate(199.628125 268.034687)scale(0.1 -0.1)\">\n      <defs>\n       <path d=\"M 9.8125 72.90625 \nL 55.90625 72.90625 \nL 55.90625 64.59375 \nL 19.671875 64.59375 \nL 19.671875 43.015625 \nL 54.390625 43.015625 \nL 54.390625 34.71875 \nL 19.671875 34.71875 \nL 19.671875 8.296875 \nL 56.78125 8.296875 \nL 56.78125 0 \nL 9.8125 0 \nz\n\" id=\"DejaVuSans-69\"/>\n       <path d=\"M 18.109375 8.203125 \nL 18.109375 -20.796875 \nL 9.078125 -20.796875 \nL 9.078125 54.6875 \nL 18.109375 54.6875 \nL 18.109375 46.390625 \nQ 20.953125 51.265625 25.265625 53.625 \nQ 29.59375 56 35.59375 56 \nQ 45.5625 56 51.78125 48.09375 \nQ 58.015625 40.1875 58.015625 27.296875 \nQ 58.015625 14.40625 51.78125 6.484375 \nQ 45.5625 -1.421875 35.59375 -1.421875 \nQ 29.59375 -1.421875 25.265625 0.953125 \nQ 20.953125 3.328125 18.109375 8.203125 \nz\nM 48.6875 27.296875 \nQ 48.6875 37.203125 44.609375 42.84375 \nQ 40.53125 48.484375 33.40625 48.484375 \nQ 26.265625 48.484375 22.1875 42.84375 \nQ 18.109375 37.203125 18.109375 27.296875 \nQ 18.109375 17.390625 22.1875 11.75 \nQ 26.265625 6.109375 33.40625 6.109375 \nQ 40.53125 6.109375 44.609375 11.75 \nQ 48.6875 17.390625 48.6875 27.296875 \nz\n\" id=\"DejaVuSans-112\"/>\n       <path d=\"M 30.609375 48.390625 \nQ 23.390625 48.390625 19.1875 42.75 \nQ 14.984375 37.109375 14.984375 27.296875 \nQ 14.984375 17.484375 19.15625 11.84375 \nQ 23.34375 6.203125 30.609375 6.203125 \nQ 37.796875 6.203125 41.984375 11.859375 \nQ 46.1875 17.53125 46.1875 27.296875 \nQ 46.1875 37.015625 41.984375 42.703125 \nQ 37.796875 48.390625 30.609375 48.390625 \nz\nM 30.609375 56 \nQ 42.328125 56 49.015625 48.375 \nQ 55.71875 40.765625 55.71875 27.296875 \nQ 55.71875 13.875 49.015625 6.21875 \nQ 42.328125 -1.421875 30.609375 -1.421875 \nQ 18.84375 -1.421875 12.171875 6.21875 \nQ 5.515625 13.875 5.515625 27.296875 \nQ 5.515625 40.765625 12.171875 48.375 \nQ 18.84375 56 30.609375 56 \nz\n\" id=\"DejaVuSans-111\"/>\n       <path d=\"M 48.78125 52.59375 \nL 48.78125 44.1875 \nQ 44.96875 46.296875 41.140625 47.34375 \nQ 37.3125 48.390625 33.40625 48.390625 \nQ 24.65625 48.390625 19.8125 42.84375 \nQ 14.984375 37.3125 14.984375 27.296875 \nQ 14.984375 17.28125 19.8125 11.734375 \nQ 24.65625 6.203125 33.40625 6.203125 \nQ 37.3125 6.203125 41.140625 7.25 \nQ 44.96875 8.296875 48.78125 10.40625 \nL 48.78125 2.09375 \nQ 45.015625 0.34375 40.984375 -0.53125 \nQ 36.96875 -1.421875 32.421875 -1.421875 \nQ 20.0625 -1.421875 12.78125 6.34375 \nQ 5.515625 14.109375 5.515625 27.296875 \nQ 5.515625 40.671875 12.859375 48.328125 \nQ 20.21875 56 33.015625 56 \nQ 37.15625 56 41.109375 55.140625 \nQ 45.0625 54.296875 48.78125 52.59375 \nz\n\" id=\"DejaVuSans-99\"/>\n       <path d=\"M 54.890625 33.015625 \nL 54.890625 0 \nL 45.90625 0 \nL 45.90625 32.71875 \nQ 45.90625 40.484375 42.875 44.328125 \nQ 39.84375 48.1875 33.796875 48.1875 \nQ 26.515625 48.1875 22.3125 43.546875 \nQ 18.109375 38.921875 18.109375 30.90625 \nL 18.109375 0 \nL 9.078125 0 \nL 9.078125 75.984375 \nL 18.109375 75.984375 \nL 18.109375 46.1875 \nQ 21.34375 51.125 25.703125 53.5625 \nQ 30.078125 56 35.796875 56 \nQ 45.21875 56 50.046875 50.171875 \nQ 54.890625 44.34375 54.890625 33.015625 \nz\n\" id=\"DejaVuSans-104\"/>\n       <path d=\"M 44.28125 53.078125 \nL 44.28125 44.578125 \nQ 40.484375 46.53125 36.375 47.5 \nQ 32.28125 48.484375 27.875 48.484375 \nQ 21.1875 48.484375 17.84375 46.4375 \nQ 14.5 44.390625 14.5 40.28125 \nQ 14.5 37.15625 16.890625 35.375 \nQ 19.28125 33.59375 26.515625 31.984375 \nL 29.59375 31.296875 \nQ 39.15625 29.25 43.1875 25.515625 \nQ 47.21875 21.78125 47.21875 15.09375 \nQ 47.21875 7.46875 41.1875 3.015625 \nQ 35.15625 -1.421875 24.609375 -1.421875 \nQ 20.21875 -1.421875 15.453125 -0.5625 \nQ 10.6875 0.296875 5.421875 2 \nL 5.421875 11.28125 \nQ 10.40625 8.6875 15.234375 7.390625 \nQ 20.0625 6.109375 24.8125 6.109375 \nQ 31.15625 6.109375 34.5625 8.28125 \nQ 37.984375 10.453125 37.984375 14.40625 \nQ 37.984375 18.0625 35.515625 20.015625 \nQ 33.0625 21.96875 24.703125 23.78125 \nL 21.578125 24.515625 \nQ 13.234375 26.265625 9.515625 29.90625 \nQ 5.8125 33.546875 5.8125 39.890625 \nQ 5.8125 47.609375 11.28125 51.796875 \nQ 16.75 56 26.8125 56 \nQ 31.78125 56 36.171875 55.265625 \nQ 40.578125 54.546875 44.28125 53.078125 \nz\n\" id=\"DejaVuSans-115\"/>\n      </defs>\n      <use xlink:href=\"#DejaVuSans-69\"/>\n      <use x=\"63.183594\" xlink:href=\"#DejaVuSans-112\"/>\n      <use x=\"126.660156\" xlink:href=\"#DejaVuSans-111\"/>\n      <use x=\"187.841797\" xlink:href=\"#DejaVuSans-99\"/>\n      <use x=\"242.822266\" xlink:href=\"#DejaVuSans-104\"/>\n      <use x=\"306.201172\" xlink:href=\"#DejaVuSans-115\"/>\n     </g>\n    </g>\n   </g>\n   <g id=\"matplotlib.axis_2\">\n    <g id=\"ytick_1\">\n     <g id=\"line2d_7\">\n      <defs>\n       <path d=\"M 0 0 \nL -3.5 0 \n\" id=\"m0eba1fc436\" style=\"stroke:#000000;stroke-width:0.8;\"/>\n      </defs>\n      <g>\n       <use style=\"stroke:#000000;stroke-width:0.8;\" x=\"50.14375\" xlink:href=\"#m0eba1fc436\" y=\"235.618439\"/>\n      </g>\n     </g>\n     <g id=\"text_8\">\n      <!-- 0.50 -->\n      <g transform=\"translate(20.878125 239.417658)scale(0.1 -0.1)\">\n       <defs>\n        <path d=\"M 10.6875 12.40625 \nL 21 12.40625 \nL 21 0 \nL 10.6875 0 \nz\n\" id=\"DejaVuSans-46\"/>\n       </defs>\n       <use xlink:href=\"#DejaVuSans-48\"/>\n       <use x=\"63.623047\" xlink:href=\"#DejaVuSans-46\"/>\n       <use x=\"95.410156\" xlink:href=\"#DejaVuSans-53\"/>\n       <use x=\"159.033203\" xlink:href=\"#DejaVuSans-48\"/>\n      </g>\n     </g>\n    </g>\n    <g id=\"ytick_2\">\n     <g id=\"line2d_8\">\n      <g>\n       <use style=\"stroke:#000000;stroke-width:0.8;\" x=\"50.14375\" xlink:href=\"#m0eba1fc436\" y=\"197.250083\"/>\n      </g>\n     </g>\n     <g id=\"text_9\">\n      <!-- 0.55 -->\n      <g transform=\"translate(20.878125 201.049302)scale(0.1 -0.1)\">\n       <use xlink:href=\"#DejaVuSans-48\"/>\n       <use x=\"63.623047\" xlink:href=\"#DejaVuSans-46\"/>\n       <use x=\"95.410156\" xlink:href=\"#DejaVuSans-53\"/>\n       <use x=\"159.033203\" xlink:href=\"#DejaVuSans-53\"/>\n      </g>\n     </g>\n    </g>\n    <g id=\"ytick_3\">\n     <g id=\"line2d_9\">\n      <g>\n       <use style=\"stroke:#000000;stroke-width:0.8;\" x=\"50.14375\" xlink:href=\"#m0eba1fc436\" y=\"158.881726\"/>\n      </g>\n     </g>\n     <g id=\"text_10\">\n      <!-- 0.60 -->\n      <g transform=\"translate(20.878125 162.680945)scale(0.1 -0.1)\">\n       <defs>\n        <path d=\"M 33.015625 40.375 \nQ 26.375 40.375 22.484375 35.828125 \nQ 18.609375 31.296875 18.609375 23.390625 \nQ 18.609375 15.53125 22.484375 10.953125 \nQ 26.375 6.390625 33.015625 6.390625 \nQ 39.65625 6.390625 43.53125 10.953125 \nQ 47.40625 15.53125 47.40625 23.390625 \nQ 47.40625 31.296875 43.53125 35.828125 \nQ 39.65625 40.375 33.015625 40.375 \nz\nM 52.59375 71.296875 \nL 52.59375 62.3125 \nQ 48.875 64.0625 45.09375 64.984375 \nQ 41.3125 65.921875 37.59375 65.921875 \nQ 27.828125 65.921875 22.671875 59.328125 \nQ 17.53125 52.734375 16.796875 39.40625 \nQ 19.671875 43.65625 24.015625 45.921875 \nQ 28.375 48.1875 33.59375 48.1875 \nQ 44.578125 48.1875 50.953125 41.515625 \nQ 57.328125 34.859375 57.328125 23.390625 \nQ 57.328125 12.15625 50.6875 5.359375 \nQ 44.046875 -1.421875 33.015625 -1.421875 \nQ 20.359375 -1.421875 13.671875 8.265625 \nQ 6.984375 17.96875 6.984375 36.375 \nQ 6.984375 53.65625 15.1875 63.9375 \nQ 23.390625 74.21875 37.203125 74.21875 \nQ 40.921875 74.21875 44.703125 73.484375 \nQ 48.484375 72.75 52.59375 71.296875 \nz\n\" id=\"DejaVuSans-54\"/>\n       </defs>\n       <use xlink:href=\"#DejaVuSans-48\"/>\n       <use x=\"63.623047\" xlink:href=\"#DejaVuSans-46\"/>\n       <use x=\"95.410156\" xlink:href=\"#DejaVuSans-54\"/>\n       <use x=\"159.033203\" xlink:href=\"#DejaVuSans-48\"/>\n      </g>\n     </g>\n    </g>\n    <g id=\"ytick_4\">\n     <g id=\"line2d_10\">\n      <g>\n       <use style=\"stroke:#000000;stroke-width:0.8;\" x=\"50.14375\" xlink:href=\"#m0eba1fc436\" y=\"120.51337\"/>\n      </g>\n     </g>\n     <g id=\"text_11\">\n      <!-- 0.65 -->\n      <g transform=\"translate(20.878125 124.312589)scale(0.1 -0.1)\">\n       <use xlink:href=\"#DejaVuSans-48\"/>\n       <use x=\"63.623047\" xlink:href=\"#DejaVuSans-46\"/>\n       <use x=\"95.410156\" xlink:href=\"#DejaVuSans-54\"/>\n       <use x=\"159.033203\" xlink:href=\"#DejaVuSans-53\"/>\n      </g>\n     </g>\n    </g>\n    <g id=\"ytick_5\">\n     <g id=\"line2d_11\">\n      <g>\n       <use style=\"stroke:#000000;stroke-width:0.8;\" x=\"50.14375\" xlink:href=\"#m0eba1fc436\" y=\"82.145014\"/>\n      </g>\n     </g>\n     <g id=\"text_12\">\n      <!-- 0.70 -->\n      <g transform=\"translate(20.878125 85.944232)scale(0.1 -0.1)\">\n       <defs>\n        <path d=\"M 8.203125 72.90625 \nL 55.078125 72.90625 \nL 55.078125 68.703125 \nL 28.609375 0 \nL 18.3125 0 \nL 43.21875 64.59375 \nL 8.203125 64.59375 \nz\n\" id=\"DejaVuSans-55\"/>\n       </defs>\n       <use xlink:href=\"#DejaVuSans-48\"/>\n       <use x=\"63.623047\" xlink:href=\"#DejaVuSans-46\"/>\n       <use x=\"95.410156\" xlink:href=\"#DejaVuSans-55\"/>\n       <use x=\"159.033203\" xlink:href=\"#DejaVuSans-48\"/>\n      </g>\n     </g>\n    </g>\n    <g id=\"ytick_6\">\n     <g id=\"line2d_12\">\n      <g>\n       <use style=\"stroke:#000000;stroke-width:0.8;\" x=\"50.14375\" xlink:href=\"#m0eba1fc436\" y=\"43.776657\"/>\n      </g>\n     </g>\n     <g id=\"text_13\">\n      <!-- 0.75 -->\n      <g transform=\"translate(20.878125 47.575876)scale(0.1 -0.1)\">\n       <use xlink:href=\"#DejaVuSans-48\"/>\n       <use x=\"63.623047\" xlink:href=\"#DejaVuSans-46\"/>\n       <use x=\"95.410156\" xlink:href=\"#DejaVuSans-55\"/>\n       <use x=\"159.033203\" xlink:href=\"#DejaVuSans-53\"/>\n      </g>\n     </g>\n    </g>\n    <g id=\"text_14\">\n     <!-- Accuracy -->\n     <g transform=\"translate(14.798438 153.86625)rotate(-90)scale(0.1 -0.1)\">\n      <defs>\n       <path d=\"M 34.1875 63.1875 \nL 20.796875 26.90625 \nL 47.609375 26.90625 \nz\nM 28.609375 72.90625 \nL 39.796875 72.90625 \nL 67.578125 0 \nL 57.328125 0 \nL 50.6875 18.703125 \nL 17.828125 18.703125 \nL 11.1875 0 \nL 0.78125 0 \nz\n\" id=\"DejaVuSans-65\"/>\n       <path d=\"M 8.5 21.578125 \nL 8.5 54.6875 \nL 17.484375 54.6875 \nL 17.484375 21.921875 \nQ 17.484375 14.15625 20.5 10.265625 \nQ 23.53125 6.390625 29.59375 6.390625 \nQ 36.859375 6.390625 41.078125 11.03125 \nQ 45.3125 15.671875 45.3125 23.6875 \nL 45.3125 54.6875 \nL 54.296875 54.6875 \nL 54.296875 0 \nL 45.3125 0 \nL 45.3125 8.40625 \nQ 42.046875 3.421875 37.71875 1 \nQ 33.40625 -1.421875 27.6875 -1.421875 \nQ 18.265625 -1.421875 13.375 4.4375 \nQ 8.5 10.296875 8.5 21.578125 \nz\nM 31.109375 56 \nz\n\" id=\"DejaVuSans-117\"/>\n       <path d=\"M 41.109375 46.296875 \nQ 39.59375 47.171875 37.8125 47.578125 \nQ 36.03125 48 33.890625 48 \nQ 26.265625 48 22.1875 43.046875 \nQ 18.109375 38.09375 18.109375 28.8125 \nL 18.109375 0 \nL 9.078125 0 \nL 9.078125 54.6875 \nL 18.109375 54.6875 \nL 18.109375 46.1875 \nQ 20.953125 51.171875 25.484375 53.578125 \nQ 30.03125 56 36.53125 56 \nQ 37.453125 56 38.578125 55.875 \nQ 39.703125 55.765625 41.0625 55.515625 \nz\n\" id=\"DejaVuSans-114\"/>\n       <path d=\"M 34.28125 27.484375 \nQ 23.390625 27.484375 19.1875 25 \nQ 14.984375 22.515625 14.984375 16.5 \nQ 14.984375 11.71875 18.140625 8.90625 \nQ 21.296875 6.109375 26.703125 6.109375 \nQ 34.1875 6.109375 38.703125 11.40625 \nQ 43.21875 16.703125 43.21875 25.484375 \nL 43.21875 27.484375 \nz\nM 52.203125 31.203125 \nL 52.203125 0 \nL 43.21875 0 \nL 43.21875 8.296875 \nQ 40.140625 3.328125 35.546875 0.953125 \nQ 30.953125 -1.421875 24.3125 -1.421875 \nQ 15.921875 -1.421875 10.953125 3.296875 \nQ 6 8.015625 6 15.921875 \nQ 6 25.140625 12.171875 29.828125 \nQ 18.359375 34.515625 30.609375 34.515625 \nL 43.21875 34.515625 \nL 43.21875 35.40625 \nQ 43.21875 41.609375 39.140625 45 \nQ 35.0625 48.390625 27.6875 48.390625 \nQ 23 48.390625 18.546875 47.265625 \nQ 14.109375 46.140625 10.015625 43.890625 \nL 10.015625 52.203125 \nQ 14.9375 54.109375 19.578125 55.046875 \nQ 24.21875 56 28.609375 56 \nQ 40.484375 56 46.34375 49.84375 \nQ 52.203125 43.703125 52.203125 31.203125 \nz\n\" id=\"DejaVuSans-97\"/>\n       <path d=\"M 32.171875 -5.078125 \nQ 28.375 -14.84375 24.75 -17.8125 \nQ 21.140625 -20.796875 15.09375 -20.796875 \nL 7.90625 -20.796875 \nL 7.90625 -13.28125 \nL 13.1875 -13.28125 \nQ 16.890625 -13.28125 18.9375 -11.515625 \nQ 21 -9.765625 23.484375 -3.21875 \nL 25.09375 0.875 \nL 2.984375 54.6875 \nL 12.5 54.6875 \nL 29.59375 11.921875 \nL 46.6875 54.6875 \nL 56.203125 54.6875 \nz\n\" id=\"DejaVuSans-121\"/>\n      </defs>\n      <use xlink:href=\"#DejaVuSans-65\"/>\n      <use x=\"66.658203\" xlink:href=\"#DejaVuSans-99\"/>\n      <use x=\"121.638672\" xlink:href=\"#DejaVuSans-99\"/>\n      <use x=\"176.619141\" xlink:href=\"#DejaVuSans-117\"/>\n      <use x=\"239.998047\" xlink:href=\"#DejaVuSans-114\"/>\n      <use x=\"281.111328\" xlink:href=\"#DejaVuSans-97\"/>\n      <use x=\"342.390625\" xlink:href=\"#DejaVuSans-99\"/>\n      <use x=\"397.371094\" xlink:href=\"#DejaVuSans-121\"/>\n     </g>\n    </g>\n   </g>\n   <g id=\"line2d_13\">\n    <path clip-path=\"url(#pb2aeb15721)\" d=\"M 65.361932 229.874489 \nL 78.04375 167.213322 \nL 90.725568 149.807481 \nL 103.407386 139.673352 \nL 116.089205 130.912435 \nL 128.771023 123.950053 \nL 141.452841 118.109411 \nL 154.134659 112.094733 \nL 166.816477 105.53851 \nL 179.498295 99.349751 \nL 192.180114 94.84358 \nL 204.861932 88.906247 \nL 217.54375 84.380682 \nL 230.225568 78.984894 \nL 242.907386 73.801791 \nL 255.589205 68.386655 \nL 268.271023 65.292253 \nL 280.952841 59.509653 \nL 293.634659 55.719018 \nL 306.316477 52.044466 \nL 318.998295 47.673636 \nL 331.680114 43.264156 \nL 344.361932 39.802335 \nL 357.04375 35.218774 \nL 369.725568 32.201761 \n\" style=\"fill:none;stroke:#1f77b4;stroke-linecap:square;stroke-width:1.5;\"/>\n   </g>\n   <g id=\"line2d_14\">\n    <path clip-path=\"url(#pb2aeb15721)\" d=\"M 65.361932 172.496319 \nL 78.04375 160.660896 \nL 90.725568 151.842393 \nL 103.407386 148.438706 \nL 116.089205 142.637079 \nL 128.771023 140.161704 \nL 141.452841 136.990095 \nL 154.134659 135.675063 \nL 166.816477 133.895876 \nL 179.498295 135.984485 \nL 192.180114 134.901485 \nL 204.861932 133.818531 \nL 217.54375 133.663798 \nL 230.225568 132.271422 \nL 242.907386 133.818531 \nL 255.589205 135.442985 \nL 268.271023 133.354376 \nL 280.952841 134.746797 \nL 293.634659 133.044954 \nL 306.316477 132.812922 \nL 318.998295 134.592063 \nL 331.680114 136.525985 \nL 344.361932 136.603329 \nL 357.04375 136.061829 \nL 369.725568 139.078704 \n\" style=\"fill:none;stroke:#ff7f0e;stroke-linecap:square;stroke-width:1.5;\"/>\n   </g>\n   <g id=\"patch_3\">\n    <path d=\"M 50.14375 239.758125 \nL 50.14375 22.318125 \n\" style=\"fill:none;stroke:#000000;stroke-linecap:square;stroke-linejoin:miter;stroke-width:0.8;\"/>\n   </g>\n   <g id=\"patch_4\">\n    <path d=\"M 384.94375 239.758125 \nL 384.94375 22.318125 \n\" style=\"fill:none;stroke:#000000;stroke-linecap:square;stroke-linejoin:miter;stroke-width:0.8;\"/>\n   </g>\n   <g id=\"patch_5\">\n    <path d=\"M 50.14375 239.758125 \nL 384.94375 239.758125 \n\" style=\"fill:none;stroke:#000000;stroke-linecap:square;stroke-linejoin:miter;stroke-width:0.8;\"/>\n   </g>\n   <g id=\"patch_6\">\n    <path d=\"M 50.14375 22.318125 \nL 384.94375 22.318125 \n\" style=\"fill:none;stroke:#000000;stroke-linecap:square;stroke-linejoin:miter;stroke-width:0.8;\"/>\n   </g>\n   <g id=\"text_15\">\n    <!-- Training and Testing Accuracy Plt -->\n    <g transform=\"translate(118.833438 16.318125)scale(0.12 -0.12)\">\n     <defs>\n      <path d=\"M -0.296875 72.90625 \nL 61.375 72.90625 \nL 61.375 64.59375 \nL 35.5 64.59375 \nL 35.5 0 \nL 25.59375 0 \nL 25.59375 64.59375 \nL -0.296875 64.59375 \nz\n\" id=\"DejaVuSans-84\"/>\n      <path d=\"M 9.421875 54.6875 \nL 18.40625 54.6875 \nL 18.40625 0 \nL 9.421875 0 \nz\nM 9.421875 75.984375 \nL 18.40625 75.984375 \nL 18.40625 64.59375 \nL 9.421875 64.59375 \nz\n\" id=\"DejaVuSans-105\"/>\n      <path d=\"M 54.890625 33.015625 \nL 54.890625 0 \nL 45.90625 0 \nL 45.90625 32.71875 \nQ 45.90625 40.484375 42.875 44.328125 \nQ 39.84375 48.1875 33.796875 48.1875 \nQ 26.515625 48.1875 22.3125 43.546875 \nQ 18.109375 38.921875 18.109375 30.90625 \nL 18.109375 0 \nL 9.078125 0 \nL 9.078125 54.6875 \nL 18.109375 54.6875 \nL 18.109375 46.1875 \nQ 21.34375 51.125 25.703125 53.5625 \nQ 30.078125 56 35.796875 56 \nQ 45.21875 56 50.046875 50.171875 \nQ 54.890625 44.34375 54.890625 33.015625 \nz\n\" id=\"DejaVuSans-110\"/>\n      <path d=\"M 45.40625 27.984375 \nQ 45.40625 37.75 41.375 43.109375 \nQ 37.359375 48.484375 30.078125 48.484375 \nQ 22.859375 48.484375 18.828125 43.109375 \nQ 14.796875 37.75 14.796875 27.984375 \nQ 14.796875 18.265625 18.828125 12.890625 \nQ 22.859375 7.515625 30.078125 7.515625 \nQ 37.359375 7.515625 41.375 12.890625 \nQ 45.40625 18.265625 45.40625 27.984375 \nz\nM 54.390625 6.78125 \nQ 54.390625 -7.171875 48.1875 -13.984375 \nQ 42 -20.796875 29.203125 -20.796875 \nQ 24.46875 -20.796875 20.265625 -20.09375 \nQ 16.0625 -19.390625 12.109375 -17.921875 \nL 12.109375 -9.1875 \nQ 16.0625 -11.328125 19.921875 -12.34375 \nQ 23.78125 -13.375 27.78125 -13.375 \nQ 36.625 -13.375 41.015625 -8.765625 \nQ 45.40625 -4.15625 45.40625 5.171875 \nL 45.40625 9.625 \nQ 42.625 4.78125 38.28125 2.390625 \nQ 33.9375 0 27.875 0 \nQ 17.828125 0 11.671875 7.65625 \nQ 5.515625 15.328125 5.515625 27.984375 \nQ 5.515625 40.671875 11.671875 48.328125 \nQ 17.828125 56 27.875 56 \nQ 33.9375 56 38.28125 53.609375 \nQ 42.625 51.21875 45.40625 46.390625 \nL 45.40625 54.6875 \nL 54.390625 54.6875 \nz\n\" id=\"DejaVuSans-103\"/>\n      <path id=\"DejaVuSans-32\"/>\n      <path d=\"M 45.40625 46.390625 \nL 45.40625 75.984375 \nL 54.390625 75.984375 \nL 54.390625 0 \nL 45.40625 0 \nL 45.40625 8.203125 \nQ 42.578125 3.328125 38.25 0.953125 \nQ 33.9375 -1.421875 27.875 -1.421875 \nQ 17.96875 -1.421875 11.734375 6.484375 \nQ 5.515625 14.40625 5.515625 27.296875 \nQ 5.515625 40.1875 11.734375 48.09375 \nQ 17.96875 56 27.875 56 \nQ 33.9375 56 38.25 53.625 \nQ 42.578125 51.265625 45.40625 46.390625 \nz\nM 14.796875 27.296875 \nQ 14.796875 17.390625 18.875 11.75 \nQ 22.953125 6.109375 30.078125 6.109375 \nQ 37.203125 6.109375 41.296875 11.75 \nQ 45.40625 17.390625 45.40625 27.296875 \nQ 45.40625 37.203125 41.296875 42.84375 \nQ 37.203125 48.484375 30.078125 48.484375 \nQ 22.953125 48.484375 18.875 42.84375 \nQ 14.796875 37.203125 14.796875 27.296875 \nz\n\" id=\"DejaVuSans-100\"/>\n      <path d=\"M 56.203125 29.59375 \nL 56.203125 25.203125 \nL 14.890625 25.203125 \nQ 15.484375 15.921875 20.484375 11.0625 \nQ 25.484375 6.203125 34.421875 6.203125 \nQ 39.59375 6.203125 44.453125 7.46875 \nQ 49.3125 8.734375 54.109375 11.28125 \nL 54.109375 2.78125 \nQ 49.265625 0.734375 44.1875 -0.34375 \nQ 39.109375 -1.421875 33.890625 -1.421875 \nQ 20.796875 -1.421875 13.15625 6.1875 \nQ 5.515625 13.8125 5.515625 26.8125 \nQ 5.515625 40.234375 12.765625 48.109375 \nQ 20.015625 56 32.328125 56 \nQ 43.359375 56 49.78125 48.890625 \nQ 56.203125 41.796875 56.203125 29.59375 \nz\nM 47.21875 32.234375 \nQ 47.125 39.59375 43.09375 43.984375 \nQ 39.0625 48.390625 32.421875 48.390625 \nQ 24.90625 48.390625 20.390625 44.140625 \nQ 15.875 39.890625 15.1875 32.171875 \nz\n\" id=\"DejaVuSans-101\"/>\n      <path d=\"M 18.3125 70.21875 \nL 18.3125 54.6875 \nL 36.8125 54.6875 \nL 36.8125 47.703125 \nL 18.3125 47.703125 \nL 18.3125 18.015625 \nQ 18.3125 11.328125 20.140625 9.421875 \nQ 21.96875 7.515625 27.59375 7.515625 \nL 36.8125 7.515625 \nL 36.8125 0 \nL 27.59375 0 \nQ 17.1875 0 13.234375 3.875 \nQ 9.28125 7.765625 9.28125 18.015625 \nL 9.28125 47.703125 \nL 2.6875 47.703125 \nL 2.6875 54.6875 \nL 9.28125 54.6875 \nL 9.28125 70.21875 \nz\n\" id=\"DejaVuSans-116\"/>\n      <path d=\"M 19.671875 64.796875 \nL 19.671875 37.40625 \nL 32.078125 37.40625 \nQ 38.96875 37.40625 42.71875 40.96875 \nQ 46.484375 44.53125 46.484375 51.125 \nQ 46.484375 57.671875 42.71875 61.234375 \nQ 38.96875 64.796875 32.078125 64.796875 \nz\nM 9.8125 72.90625 \nL 32.078125 72.90625 \nQ 44.34375 72.90625 50.609375 67.359375 \nQ 56.890625 61.8125 56.890625 51.125 \nQ 56.890625 40.328125 50.609375 34.8125 \nQ 44.34375 29.296875 32.078125 29.296875 \nL 19.671875 29.296875 \nL 19.671875 0 \nL 9.8125 0 \nz\n\" id=\"DejaVuSans-80\"/>\n      <path d=\"M 9.421875 75.984375 \nL 18.40625 75.984375 \nL 18.40625 0 \nL 9.421875 0 \nz\n\" id=\"DejaVuSans-108\"/>\n     </defs>\n     <use xlink:href=\"#DejaVuSans-84\"/>\n     <use x=\"46.333984\" xlink:href=\"#DejaVuSans-114\"/>\n     <use x=\"87.447266\" xlink:href=\"#DejaVuSans-97\"/>\n     <use x=\"148.726562\" xlink:href=\"#DejaVuSans-105\"/>\n     <use x=\"176.509766\" xlink:href=\"#DejaVuSans-110\"/>\n     <use x=\"239.888672\" xlink:href=\"#DejaVuSans-105\"/>\n     <use x=\"267.671875\" xlink:href=\"#DejaVuSans-110\"/>\n     <use x=\"331.050781\" xlink:href=\"#DejaVuSans-103\"/>\n     <use x=\"394.527344\" xlink:href=\"#DejaVuSans-32\"/>\n     <use x=\"426.314453\" xlink:href=\"#DejaVuSans-97\"/>\n     <use x=\"487.59375\" xlink:href=\"#DejaVuSans-110\"/>\n     <use x=\"550.972656\" xlink:href=\"#DejaVuSans-100\"/>\n     <use x=\"614.449219\" xlink:href=\"#DejaVuSans-32\"/>\n     <use x=\"646.236328\" xlink:href=\"#DejaVuSans-84\"/>\n     <use x=\"690.320312\" xlink:href=\"#DejaVuSans-101\"/>\n     <use x=\"751.84375\" xlink:href=\"#DejaVuSans-115\"/>\n     <use x=\"803.943359\" xlink:href=\"#DejaVuSans-116\"/>\n     <use x=\"843.152344\" xlink:href=\"#DejaVuSans-105\"/>\n     <use x=\"870.935547\" xlink:href=\"#DejaVuSans-110\"/>\n     <use x=\"934.314453\" xlink:href=\"#DejaVuSans-103\"/>\n     <use x=\"997.791016\" xlink:href=\"#DejaVuSans-32\"/>\n     <use x=\"1029.578125\" xlink:href=\"#DejaVuSans-65\"/>\n     <use x=\"1096.236328\" xlink:href=\"#DejaVuSans-99\"/>\n     <use x=\"1151.216797\" xlink:href=\"#DejaVuSans-99\"/>\n     <use x=\"1206.197266\" xlink:href=\"#DejaVuSans-117\"/>\n     <use x=\"1269.576172\" xlink:href=\"#DejaVuSans-114\"/>\n     <use x=\"1310.689453\" xlink:href=\"#DejaVuSans-97\"/>\n     <use x=\"1371.96875\" xlink:href=\"#DejaVuSans-99\"/>\n     <use x=\"1426.949219\" xlink:href=\"#DejaVuSans-121\"/>\n     <use x=\"1486.128906\" xlink:href=\"#DejaVuSans-32\"/>\n     <use x=\"1517.916016\" xlink:href=\"#DejaVuSans-80\"/>\n     <use x=\"1578.21875\" xlink:href=\"#DejaVuSans-108\"/>\n     <use x=\"1606.001953\" xlink:href=\"#DejaVuSans-116\"/>\n    </g>\n   </g>\n   <g id=\"legend_1\">\n    <g id=\"patch_7\">\n     <path d=\"M 57.14375 59.674375 \nL 201.71875 59.674375 \nQ 203.71875 59.674375 203.71875 57.674375 \nL 203.71875 29.318125 \nQ 203.71875 27.318125 201.71875 27.318125 \nL 57.14375 27.318125 \nQ 55.14375 27.318125 55.14375 29.318125 \nL 55.14375 57.674375 \nQ 55.14375 59.674375 57.14375 59.674375 \nz\n\" style=\"fill:#ffffff;opacity:0.8;stroke:#cccccc;stroke-linejoin:miter;\"/>\n    </g>\n    <g id=\"line2d_15\">\n     <path d=\"M 59.14375 35.416562 \nL 79.14375 35.416562 \n\" style=\"fill:none;stroke:#1f77b4;stroke-linecap:square;stroke-width:1.5;\"/>\n    </g>\n    <g id=\"line2d_16\"/>\n    <g id=\"text_16\">\n     <!-- LSTM (training data) -->\n     <g transform=\"translate(87.14375 38.916562)scale(0.1 -0.1)\">\n      <defs>\n       <path d=\"M 9.8125 72.90625 \nL 19.671875 72.90625 \nL 19.671875 8.296875 \nL 55.171875 8.296875 \nL 55.171875 0 \nL 9.8125 0 \nz\n\" id=\"DejaVuSans-76\"/>\n       <path d=\"M 53.515625 70.515625 \nL 53.515625 60.890625 \nQ 47.90625 63.578125 42.921875 64.890625 \nQ 37.9375 66.21875 33.296875 66.21875 \nQ 25.25 66.21875 20.875 63.09375 \nQ 16.5 59.96875 16.5 54.203125 \nQ 16.5 49.359375 19.40625 46.890625 \nQ 22.3125 44.4375 30.421875 42.921875 \nL 36.375 41.703125 \nQ 47.40625 39.59375 52.65625 34.296875 \nQ 57.90625 29 57.90625 20.125 \nQ 57.90625 9.515625 50.796875 4.046875 \nQ 43.703125 -1.421875 29.984375 -1.421875 \nQ 24.8125 -1.421875 18.96875 -0.25 \nQ 13.140625 0.921875 6.890625 3.21875 \nL 6.890625 13.375 \nQ 12.890625 10.015625 18.65625 8.296875 \nQ 24.421875 6.59375 29.984375 6.59375 \nQ 38.421875 6.59375 43.015625 9.90625 \nQ 47.609375 13.234375 47.609375 19.390625 \nQ 47.609375 24.75 44.3125 27.78125 \nQ 41.015625 30.8125 33.5 32.328125 \nL 27.484375 33.5 \nQ 16.453125 35.6875 11.515625 40.375 \nQ 6.59375 45.0625 6.59375 53.421875 \nQ 6.59375 63.09375 13.40625 68.65625 \nQ 20.21875 74.21875 32.171875 74.21875 \nQ 37.3125 74.21875 42.625 73.28125 \nQ 47.953125 72.359375 53.515625 70.515625 \nz\n\" id=\"DejaVuSans-83\"/>\n       <path d=\"M 9.8125 72.90625 \nL 24.515625 72.90625 \nL 43.109375 23.296875 \nL 61.8125 72.90625 \nL 76.515625 72.90625 \nL 76.515625 0 \nL 66.890625 0 \nL 66.890625 64.015625 \nL 48.09375 14.015625 \nL 38.1875 14.015625 \nL 19.390625 64.015625 \nL 19.390625 0 \nL 9.8125 0 \nz\n\" id=\"DejaVuSans-77\"/>\n       <path d=\"M 31 75.875 \nQ 24.46875 64.65625 21.28125 53.65625 \nQ 18.109375 42.671875 18.109375 31.390625 \nQ 18.109375 20.125 21.3125 9.0625 \nQ 24.515625 -2 31 -13.1875 \nL 23.1875 -13.1875 \nQ 15.875 -1.703125 12.234375 9.375 \nQ 8.59375 20.453125 8.59375 31.390625 \nQ 8.59375 42.28125 12.203125 53.3125 \nQ 15.828125 64.359375 23.1875 75.875 \nz\n\" id=\"DejaVuSans-40\"/>\n       <path d=\"M 8.015625 75.875 \nL 15.828125 75.875 \nQ 23.140625 64.359375 26.78125 53.3125 \nQ 30.421875 42.28125 30.421875 31.390625 \nQ 30.421875 20.453125 26.78125 9.375 \nQ 23.140625 -1.703125 15.828125 -13.1875 \nL 8.015625 -13.1875 \nQ 14.5 -2 17.703125 9.0625 \nQ 20.90625 20.125 20.90625 31.390625 \nQ 20.90625 42.671875 17.703125 53.65625 \nQ 14.5 64.65625 8.015625 75.875 \nz\n\" id=\"DejaVuSans-41\"/>\n      </defs>\n      <use xlink:href=\"#DejaVuSans-76\"/>\n      <use x=\"55.712891\" xlink:href=\"#DejaVuSans-83\"/>\n      <use x=\"119.189453\" xlink:href=\"#DejaVuSans-84\"/>\n      <use x=\"180.273438\" xlink:href=\"#DejaVuSans-77\"/>\n      <use x=\"266.552734\" xlink:href=\"#DejaVuSans-32\"/>\n      <use x=\"298.339844\" xlink:href=\"#DejaVuSans-40\"/>\n      <use x=\"337.353516\" xlink:href=\"#DejaVuSans-116\"/>\n      <use x=\"376.5625\" xlink:href=\"#DejaVuSans-114\"/>\n      <use x=\"417.675781\" xlink:href=\"#DejaVuSans-97\"/>\n      <use x=\"478.955078\" xlink:href=\"#DejaVuSans-105\"/>\n      <use x=\"506.738281\" xlink:href=\"#DejaVuSans-110\"/>\n      <use x=\"570.117188\" xlink:href=\"#DejaVuSans-105\"/>\n      <use x=\"597.900391\" xlink:href=\"#DejaVuSans-110\"/>\n      <use x=\"661.279297\" xlink:href=\"#DejaVuSans-103\"/>\n      <use x=\"724.755859\" xlink:href=\"#DejaVuSans-32\"/>\n      <use x=\"756.542969\" xlink:href=\"#DejaVuSans-100\"/>\n      <use x=\"820.019531\" xlink:href=\"#DejaVuSans-97\"/>\n      <use x=\"881.298828\" xlink:href=\"#DejaVuSans-116\"/>\n      <use x=\"920.507812\" xlink:href=\"#DejaVuSans-97\"/>\n      <use x=\"981.787109\" xlink:href=\"#DejaVuSans-41\"/>\n     </g>\n    </g>\n    <g id=\"line2d_17\">\n     <path d=\"M 59.14375 50.094687 \nL 79.14375 50.094687 \n\" style=\"fill:none;stroke:#ff7f0e;stroke-linecap:square;stroke-width:1.5;\"/>\n    </g>\n    <g id=\"line2d_18\"/>\n    <g id=\"text_17\">\n     <!-- LSTM (validation data) -->\n     <g transform=\"translate(87.14375 53.594687)scale(0.1 -0.1)\">\n      <defs>\n       <path d=\"M 2.984375 54.6875 \nL 12.5 54.6875 \nL 29.59375 8.796875 \nL 46.6875 54.6875 \nL 56.203125 54.6875 \nL 35.6875 0 \nL 23.484375 0 \nz\n\" id=\"DejaVuSans-118\"/>\n      </defs>\n      <use xlink:href=\"#DejaVuSans-76\"/>\n      <use x=\"55.712891\" xlink:href=\"#DejaVuSans-83\"/>\n      <use x=\"119.189453\" xlink:href=\"#DejaVuSans-84\"/>\n      <use x=\"180.273438\" xlink:href=\"#DejaVuSans-77\"/>\n      <use x=\"266.552734\" xlink:href=\"#DejaVuSans-32\"/>\n      <use x=\"298.339844\" xlink:href=\"#DejaVuSans-40\"/>\n      <use x=\"337.353516\" xlink:href=\"#DejaVuSans-118\"/>\n      <use x=\"396.533203\" xlink:href=\"#DejaVuSans-97\"/>\n      <use x=\"457.8125\" xlink:href=\"#DejaVuSans-108\"/>\n      <use x=\"485.595703\" xlink:href=\"#DejaVuSans-105\"/>\n      <use x=\"513.378906\" xlink:href=\"#DejaVuSans-100\"/>\n      <use x=\"576.855469\" xlink:href=\"#DejaVuSans-97\"/>\n      <use x=\"638.134766\" xlink:href=\"#DejaVuSans-116\"/>\n      <use x=\"677.34375\" xlink:href=\"#DejaVuSans-105\"/>\n      <use x=\"705.126953\" xlink:href=\"#DejaVuSans-111\"/>\n      <use x=\"766.308594\" xlink:href=\"#DejaVuSans-110\"/>\n      <use x=\"829.6875\" xlink:href=\"#DejaVuSans-32\"/>\n      <use x=\"861.474609\" xlink:href=\"#DejaVuSans-100\"/>\n      <use x=\"924.951172\" xlink:href=\"#DejaVuSans-97\"/>\n      <use x=\"986.230469\" xlink:href=\"#DejaVuSans-116\"/>\n      <use x=\"1025.439453\" xlink:href=\"#DejaVuSans-97\"/>\n      <use x=\"1086.71875\" xlink:href=\"#DejaVuSans-41\"/>\n     </g>\n    </g>\n   </g>\n  </g>\n </g>\n <defs>\n  <clipPath id=\"pb2aeb15721\">\n   <rect height=\"217.44\" width=\"334.8\" x=\"50.14375\" y=\"22.318125\"/>\n  </clipPath>\n </defs>\n</svg>\n",
      "image/png": "[encoded data removed]"
     },
     "metadata": {
      "needs_background": "light"
     }
    }
   ],
   "source": [
    "plt.plot(history.history['accuracy'], label='LSTM (training data)')\n",
    "plt.plot(history.history['val_accuracy'], label='LSTM (validation data)')\n",
    "plt.title(\"Training and Testing Accuracy Plt\")\n",
    "plt.ylabel('Accuracy')\n",
    "plt.xlabel('Epochs')\n",
    "plt.legend(loc=\"upper left\")\n",
    "plt.show()"
   ]
  }
 ],
 "metadata": {
  "kernelspec": {
   "display_name": "Python 3",
   "language": "python",
   "name": "python3"
  }
 },
 "nbformat": 4,
 "nbformat_minor": 2
}